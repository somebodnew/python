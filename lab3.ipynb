{
 "cells": [
  {
   "cell_type": "markdown",
   "id": "355b2a3b",
   "metadata": {},
   "source": [
    "# Оптимизация гиперпараметров"
   ]
  },
  {
   "cell_type": "code",
   "execution_count": null,
   "id": "4024a3f4",
   "metadata": {},
   "outputs": [],
   "source": [
    "import pygad\n",
    "import pandas as pd\n",
    "import numpy as np\n",
    "from sklearn.model_selection import cross_val_score\n",
    "from sklearn.ensemble import RandomForestClassifier\n",
    "from sklearn.linear_model import LogisticRegression\n",
    "\n",
    "df = pd.read_csv('out_1000_10.cvs')\n"
   ]
  },
  {
   "cell_type": "code",
   "execution_count": null,
   "id": "2d5269ce",
   "metadata": {},
   "outputs": [],
   "source": [
    "Model1 = RandomForestClassifier()\n",
    "Model2 = LogisticRegression(max_iter=1000)\n",
    "\n",
    "\n",
    "X = df.drop(\"collision\", axis=1) \n",
    "y = df[\"collision\"]              \n",
    "\n",
    "\n",
    "def fitness_func(ga_instance, solution, solution_idx):\n",
    "    params = decode_solution(solution)\n",
    "    \n",
    "    model = Model1(**params)\n",
    "    \n",
    "    scores = cross_val_score(model, X, y, cv=5)\n",
    "    \n",
    "    return np.mean(scores)\n",
    "\n",
    "def decode_solution(solution):\n",
    "    return {\n",
    "        'n_estimators': int(solution[0]), \n",
    "        'max_depth': int(solution[1]) if solution[1] > 1 else None, \n",
    "        'min_samples_split': int(solution[2]),  \n",
    "        'min_samples_leaf': int(solution[3]), \n",
    "        'max_features': ['sqrt', 'log2', None][int(solution[4] % 3)]  \n",
    "    }\n",
    "\n",
    "gene_space = [\n",
    "    {'low': 10, 'high': 100},  \n",
    "    {'low': 0.01, 'high': 1},  \n",
    "\n",
    "]\n",
    "\n",
    "ga_instance = pygad.GA(\n",
    "    num_generations=50,\n",
    "    num_parents_mating=4,\n",
    "    fitness_func=fitness_func,\n",
    "    sol_per_pop=10,\n",
    "    num_genes=len(gene_space),\n",
    "    gene_space=gene_space,\n",
    "    mutation_type=\"adaptive\",\n",
    "    mutation_probability=[0.25, 0.1]\n",
    ")\n",
    "\n",
    "ga_instance.run()\n",
    "\n",
    "best_solution, best_fitness, _ = ga_instance.best_solution()\n",
    "best_params = decode_solution(best_solution)\n",
    "\n",
    "best_model = Model1(**best_params)\n",
    "best_model.fit(X, y)\n",
    "save_model(best_model, 'ga_optimized_model1.pkl')"
   ]
  }
 ],
 "metadata": {
  "kernelspec": {
   "display_name": ".venv",
   "language": "python",
   "name": "python3"
  },
  "language_info": {
   "name": "python",
   "version": "3.13.3"
  }
 },
 "nbformat": 4,
 "nbformat_minor": 5
}
