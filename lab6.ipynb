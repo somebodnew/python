{
 "cells": [
  {
   "cell_type": "markdown",
   "id": "ea52e2c3",
   "metadata": {},
   "source": [
    "### Задание №1: Собственные функции\n"
   ]
  },
  {
   "cell_type": "code",
   "execution_count": 2,
   "id": "9c0ba1b1",
   "metadata": {},
   "outputs": [
    {
     "name": "stdout",
     "output_type": "stream",
     "text": [
      "Словарь из списков: {1: 4, 2: 5, 3: 6}\n",
      "Группировка слов по длине: {5: ['apple'], 6: ['banana', 'cherry'], 4: ['date'], 3: ['fig']}\n",
      "Преобразованный список чисел: [1, 4, 27, 16, 125]\n"
     ]
    }
   ],
   "source": [
    "# 1. Функция создания словаря из двух списков\n",
    "def lists_to_dict(keys, values):\n",
    "    if len(keys) != len(values):\n",
    "        raise ValueError(\"Длины списков не совпадают\")\n",
    "    return dict(zip(keys, values))\n",
    "\n",
    "# 2. Функция группировки слов по длине\n",
    "def group_by_length(words):\n",
    "    groups = {}\n",
    "    for word in words:\n",
    "        length = len(word)\n",
    "        if length not in groups:\n",
    "            groups[length] = []\n",
    "        groups[length].append(word)\n",
    "    for key in groups:\n",
    "        groups[key].sort()\n",
    "    return groups\n",
    "\n",
    "# 3. Функция преобразования числового списка\n",
    "def transform_numbers(numbers):\n",
    "    return [x**2 if x % 2 == 0 else x**3 for x in numbers]\n",
    "\n",
    "keys = [1, 2, 3]\n",
    "values = [4, 5, 6]\n",
    "print(\"Словарь из списков:\", lists_to_dict(keys, values))\n",
    "\n",
    "words = [\"apple\", \"banana\", \"cherry\", \"date\", \"fig\"]\n",
    "print(\"Группировка слов по длине:\", group_by_length(words))\n",
    "\n",
    "numbers = [1, 2, 3, 4, 5]\n",
    "print(\"Преобразованный список чисел:\", transform_numbers(numbers))"
   ]
  },
  {
   "cell_type": "markdown",
   "id": "132e3f9e",
   "metadata": {},
   "source": [
    "### Задание №2: Рекурсия\n"
   ]
  },
  {
   "cell_type": "code",
   "execution_count": null,
   "id": "e6c63dd8",
   "metadata": {},
   "outputs": [
    {
     "name": "stdout",
     "output_type": "stream",
     "text": [
      "Перестановки списка [1,2,3]: [[1, 2, 3], [1, 3, 2], [2, 1, 3], [2, 3, 1], [3, 1, 2], [3, 2, 1]]\n",
      "Сочетания из 2 элементов: [[1, 2], [1, 3], [2, 3]]\n",
      "Степенное множество [1,2,3]: [[], [3], [2], [2, 3], [1], [1, 3], [1, 2], [1, 2, 3]]\n"
     ]
    }
   ],
   "source": [
    "# 1. Рекурсивное генерирование всех перестановок списка\n",
    "def permute(lst):\n",
    "    if len(lst) == 0:\n",
    "        return []\n",
    "    if len(lst) == 1:\n",
    "        return [lst]\n",
    "    result = []\n",
    "    for i in range(len(lst)):\n",
    "        m = lst[i]\n",
    "        rem_lst = lst[:i] + lst[i+1:]\n",
    "        for p in permute(rem_lst):\n",
    "            result.append([m] + p)\n",
    "    return result\n",
    "\n",
    "# 2. Рекурсивное генерирование сочетаний заданной длины\n",
    "def combinations(lst, k):\n",
    "    if k == 0:\n",
    "        return [[]]\n",
    "    if not lst or k > len(lst):\n",
    "        return []\n",
    "    head = lst[0]\n",
    "    tail = lst[1:]\n",
    "    return [ [head] + c for c in combinations(tail, k-1) ] + combinations(tail, k)\n",
    "\n",
    "# 3. Рекурсивное построение степенного множества\n",
    "def power_set(lst):\n",
    "    if not lst:\n",
    "        return [[]]\n",
    "    head = lst[0]\n",
    "    tail_power_set = power_set(lst[1:])\n",
    "    return tail_power_set + [ [head] + subset for subset in tail_power_set ]\n",
    "\n",
    "print(\"Перестановки списка [1,2,3]:\", permute([1, 2, 3]))\n",
    "print(\"Сочетания из 2 элементов:\", combinations([1, 2, 3], 2))\n",
    "print(\"Степенное множество [1,2,3]:\", power_set([1, 2, 3]))"
   ]
  },
  {
   "cell_type": "markdown",
   "id": "ab3d302d",
   "metadata": {},
   "source": [
    "### Задание №3: Функции высших порядков\n"
   ]
  },
  {
   "cell_type": "code",
   "execution_count": 4,
   "id": "26770214",
   "metadata": {},
   "outputs": [
    {
     "name": "stdout",
     "output_type": "stream",
     "text": [
      "sum_large_list выполнилась за 0.038065 секунд\n",
      "Факториал 5 с мемоизацией: 120\n",
      "Успех\n"
     ]
    }
   ],
   "source": [
    "import time\n",
    "\n",
    "# 1. Декоратор «time_it»\n",
    "def time_it(func):\n",
    "    def wrapper(*args, **kwargs):\n",
    "        start = time.time()\n",
    "        result = func(*args, **kwargs)\n",
    "        end = time.time()\n",
    "        print(f\"{func.__name__} выполнилась за {end - start:.6f} секунд\")\n",
    "        return result\n",
    "    return wrapper\n",
    "\n",
    "# 2. Декоратор мемоизации\n",
    "def memoize(func):\n",
    "    cache = {}\n",
    "    def wrapper(*args):\n",
    "        if args not in cache:\n",
    "            cache[args] = func(*args)\n",
    "        return cache[args]\n",
    "    return wrapper\n",
    "\n",
    "# 3. Декоратор «retry»\n",
    "def retry(n):\n",
    "    def decorator(func):\n",
    "        def wrapper(*args, **kwargs):\n",
    "            attempts = 0\n",
    "            while attempts < n:\n",
    "                try:\n",
    "                    return func(*args, **kwargs)\n",
    "                except Exception as e:\n",
    "                    attempts += 1\n",
    "                    if attempts == n:\n",
    "                        raise e\n",
    "        return wrapper\n",
    "    return decorator\n",
    "\n",
    "@time_it\n",
    "def sum_large_list():\n",
    "    return sum(range(1000000))\n",
    "\n",
    "sum_large_list()\n",
    "\n",
    "@memoize\n",
    "def factorial(n):\n",
    "    return 1 if n == 0 else n * factorial(n-1)\n",
    "\n",
    "print(\"Факториал 5 с мемоизацией:\", factorial(5))\n",
    "\n",
    "@retry(3)\n",
    "def risky_func():\n",
    "    import random\n",
    "    if random.random() < 0.5:\n",
    "        raise ValueError(\"Случайная ошибка\")\n",
    "    return \"Успех\"\n",
    "\n",
    "try:\n",
    "    print(risky_func())\n",
    "except Exception as e:\n",
    "    print(f\"Ошибка после повторов: {e}\")"
   ]
  },
  {
   "cell_type": "markdown",
   "id": "e3b09ab1",
   "metadata": {},
   "source": [
    "### Задание №4. Декораторы\n"
   ]
  },
  {
   "cell_type": "code",
   "execution_count": 5,
   "id": "eeb5142e",
   "metadata": {},
   "outputs": [
    {
     "name": "stdout",
     "output_type": "stream",
     "text": [
      "hellohellohello\n",
      "Ошибка: Аргумент a должен быть типа <class 'int'>\n",
      "120\n",
      "Количество вызовов: 0\n"
     ]
    }
   ],
   "source": [
    "from functools import wraps\n",
    "def type_check(func):\n",
    "    @wraps(func)\n",
    "    def wrapper(*args, **kwargs):\n",
    "        annotations = func.__annotations__\n",
    "        \n",
    "        # Проверка позиционных аргументов\n",
    "        for i, (arg_name, arg_type) in enumerate(annotations.items()):\n",
    "            if i >= len(args):\n",
    "                break\n",
    "            if not isinstance(args[i], arg_type):\n",
    "                raise TypeError(f\"Аргумент {arg_name} должен быть типа {arg_type}\")\n",
    "        \n",
    "        # Проверка именованных аргументов\n",
    "        for arg_name, arg_value in kwargs.items():\n",
    "            if arg_name in annotations and not isinstance(arg_value, annotations[arg_name]):\n",
    "                raise TypeError(f\"Аргумент {arg_name} должен быть типа {annotations[arg_name]}\")\n",
    "        \n",
    "        return func(*args, **kwargs)\n",
    "    return wrapper\n",
    "\n",
    "def cache_with_counter(func):\n",
    "    cache = {}\n",
    "    func.call_count = 0\n",
    "    \n",
    "    @wraps(func)\n",
    "    def wrapper(*args):\n",
    "        nonlocal cache\n",
    "        func.call_count += 1\n",
    "        if args not in cache:\n",
    "            cache[args] = func(*args)\n",
    "        return cache[args]\n",
    "    \n",
    "    return wrapper\n",
    "\n",
    "@type_check\n",
    "def typed_func(a: int, b: str) -> str:\n",
    "    return b * a\n",
    "\n",
    "try:\n",
    "    print(typed_func(3, \"hello\"))\n",
    "except TypeError as e:\n",
    "    print(f\"Ошибка: {e}\")\n",
    "\n",
    "try:\n",
    "    print(typed_func(\"three\", \"hello\"))\n",
    "except TypeError as e:\n",
    "    print(f\"Ошибка: {e}\")\n",
    "    \n",
    "@cache_with_counter\n",
    "def factorial(n):\n",
    "    return 1 if n <= 1 else n * factorial(n-1)\n",
    "print(factorial(5))\n",
    "print(f\"Количество вызовов: {factorial.call_count}\")"
   ]
  },
  {
   "cell_type": "markdown",
   "id": "aa275454",
   "metadata": {},
   "source": [
    "### Задание №5. Основы функционального программирования\n"
   ]
  },
  {
   "cell_type": "code",
   "execution_count": 6,
   "id": "c60342a6",
   "metadata": {},
   "outputs": [
    {
     "name": "stdout",
     "output_type": "stream",
     "text": [
      "Группировка чисел по чётности: {'even': [2, 4, 6], 'odd': [1, 1, 3, 5, 9]}\n",
      "Первые 10 чисел Фибоначчи: [0, 1, 1, 2, 3, 5, 8, 13, 21, 34]\n"
     ]
    }
   ],
   "source": [
    "# 1. Группировка чисел по чётности\n",
    "def group_by_parity(numbers):\n",
    "    return {\n",
    "        'even': sorted(filter(lambda x: x % 2 == 0, numbers)),\n",
    "        'odd': sorted(filter(lambda x: x % 2 != 0, numbers))\n",
    "    }\n",
    "\n",
    "# 2. Генерация последовательности Фибоначчи\n",
    "def fibonacci(n):\n",
    "    if n <= 0:\n",
    "        return []\n",
    "    elif n == 1:\n",
    "        return [0]\n",
    "    elif n == 2:\n",
    "        return [0, 1]\n",
    "    else:\n",
    "        fib_prev = fibonacci(n - 1)\n",
    "        fib_prev.append(fib_prev[-1] + fib_prev[-2])\n",
    "        return fib_prev\n",
    "\n",
    "print(\"Группировка чисел по чётности:\", group_by_parity([3, 1, 4, 1, 5, 9, 2, 6]))\n",
    "print(\"Первые 10 чисел Фибоначчи:\", fibonacci(10))"
   ]
  }
 ],
 "metadata": {
  "kernelspec": {
   "display_name": "Python 3",
   "language": "python",
   "name": "python3"
  },
  "language_info": {
   "codemirror_mode": {
    "name": "ipython",
    "version": 3
   },
   "file_extension": ".py",
   "mimetype": "text/x-python",
   "name": "python",
   "nbconvert_exporter": "python",
   "pygments_lexer": "ipython3",
   "version": "3.11.9"
  }
 },
 "nbformat": 4,
 "nbformat_minor": 5
}
